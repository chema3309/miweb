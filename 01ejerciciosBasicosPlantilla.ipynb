{
  "nbformat": 4,
  "nbformat_minor": 0,
  "metadata": {
    "colab": {
      "provenance": []
    },
    "kernelspec": {
      "name": "python3",
      "display_name": "Python 3"
    },
    "language_info": {
      "name": "python"
    }
  },
  "cells": [
    {
      "cell_type": "markdown",
      "source": [
        "1. Leer un numero por teclado, comprobar si es impar y volver a realizar el proceso hasta que el numero sea par"
      ],
      "metadata": {
        "id": "xX60l5yo7k-5"
      }
    },
    {
      "cell_type": "code",
      "execution_count": 2,
      "metadata": {
        "id": "9hPApkto6zNx",
        "colab": {
          "base_uri": "https://localhost:8080/"
        },
        "outputId": "34b59556-fa59-484d-8e63-3b8c42dc04d4"
      },
      "outputs": [
        {
          "output_type": "stream",
          "name": "stdout",
          "text": [
            "Escribe un número: 23\n",
            "23 no es par\n",
            "Escribe un número: 22\n",
            "22 es par\n"
          ]
        }
      ],
      "source": [
        "while True:\n",
        "  numero = int(input(\"Escribe un número: \"))\n",
        "  if numero%2 == 0:\n",
        "    print(numero,\"es par\")\n",
        "    break\n",
        "  else:\n",
        "    print(numero,\"no es par\")"
      ]
    },
    {
      "cell_type": "markdown",
      "source": [
        "2. Realiza la media de los numeros que ingrese el usuario."
      ],
      "metadata": {
        "id": "b01KWQv680DK"
      }
    },
    {
      "cell_type": "code",
      "source": [
        "numeros = []\n",
        "print(\"Proporciona varios números y se te indicará la media\")\n",
        "while True:\n",
        "  num = int(input(\"Introduce varios números:\"))\n",
        "  if num != 0:\n",
        "    numeros.append(num)\n",
        "  else:\n",
        "    break\n",
        "print(\"La media de los números introducidos es = \", sum(numeros)/len(numeros))"
      ],
      "metadata": {
        "id": "Sy_xUyGP8kd1",
        "colab": {
          "base_uri": "https://localhost:8080/"
        },
        "outputId": "eee9f2b5-e1d8-4c2b-dc69-7857dcf6abae"
      },
      "execution_count": 4,
      "outputs": [
        {
          "output_type": "stream",
          "name": "stdout",
          "text": [
            "Proporciona varios números y se te indicará la media\n",
            "Introduce varios números:6\n",
            "Introduce varios números:7\n",
            "Introduce varios números:6\n",
            "Introduce varios números:8\n",
            "Introduce varios números:9\n",
            "Introduce varios números:8\n",
            "Introduce varios números:1\n",
            "Introduce varios números:10\n",
            "Introduce varios números:6\n",
            "Introduce varios números:7\n",
            "Introduce varios números:9\n",
            "Introduce varios números:0\n",
            "La media de los números introducidos es =  7.0\n"
          ]
        }
      ]
    },
    {
      "cell_type": "markdown",
      "source": [
        "3. Genera una lista con los numeros impares desde 11 a 31"
      ],
      "metadata": {
        "id": "bvaj4oOh9iaF"
      }
    },
    {
      "cell_type": "code",
      "source": [
        "print([x for x in range(11, 32) if x%2 == 0])"
      ],
      "metadata": {
        "id": "IFLny8l49vUb",
        "colab": {
          "base_uri": "https://localhost:8080/"
        },
        "outputId": "aa90b35c-695b-415d-8fd2-f43948e0da12"
      },
      "execution_count": 16,
      "outputs": [
        {
          "output_type": "stream",
          "name": "stdout",
          "text": [
            "[12, 14, 16, 18, 20, 22, 24, 26, 28, 30]\n"
          ]
        }
      ]
    },
    {
      "cell_type": "markdown",
      "source": [
        "4. Genera una lista con los numeros multiplos del 7 en un intervalo del 10 al 80"
      ],
      "metadata": {
        "id": "CEeaFT4x-IpI"
      }
    },
    {
      "cell_type": "code",
      "source": [
        "numeros = [x for x in range(10, 81) if x%7 == 0]\n",
        "print(numeros)"
      ],
      "metadata": {
        "id": "TfUt16D893s8",
        "colab": {
          "base_uri": "https://localhost:8080/"
        },
        "outputId": "386fe42c-2c5b-44d4-b70c-d772f8d70d74"
      },
      "execution_count": 20,
      "outputs": [
        {
          "output_type": "stream",
          "name": "stdout",
          "text": [
            "[14, 21, 28, 35, 42, 49, 56, 63, 70, 77]\n"
          ]
        }
      ]
    },
    {
      "cell_type": "markdown",
      "source": [
        "5. Sumar todos los numeros enteros pares desde el 50 hasta el 100"
      ],
      "metadata": {
        "id": "1ijxiREiHc8Z"
      }
    },
    {
      "cell_type": "code",
      "source": [
        "numeros = []\n",
        "for i in range(50, 101):\n",
        "  if i%2 == 0:\n",
        "    numeros.append(i)\n",
        "print(numeros)\n",
        "print(\"Suma de todos los números pares:\",sum(numeros))"
      ],
      "metadata": {
        "id": "VcodFRcP-byc",
        "colab": {
          "base_uri": "https://localhost:8080/"
        },
        "outputId": "4dbf685c-6bb5-46ae-d185-9bd07cea52c9"
      },
      "execution_count": 23,
      "outputs": [
        {
          "output_type": "stream",
          "name": "stdout",
          "text": [
            "[50, 52, 54, 56, 58, 60, 62, 64, 66, 68, 70, 72, 74, 76, 78, 80, 82, 84, 86, 88, 90, 92, 94, 96, 98, 100]\n",
            "Suma de todos los números pares: 1950\n"
          ]
        }
      ]
    },
    {
      "cell_type": "markdown",
      "source": [
        "6. Genera una lista con numeros al azar e indicar cuantas veces aparece un numero en dicha lista"
      ],
      "metadata": {
        "id": "VHP24rLSI6Sj"
      }
    },
    {
      "cell_type": "code",
      "source": [
        "import random as rd"
      ],
      "metadata": {
        "id": "K9ZmvAioH6d6"
      },
      "execution_count": 25,
      "outputs": []
    },
    {
      "cell_type": "code",
      "source": [
        "lista = []\n",
        "for _ in range(0, 10):\n",
        "  numero = rd.randint(1, 10)\n",
        "  lista.append(numero)\n",
        "\n",
        "lista.sort()\n",
        "print(lista)"
      ],
      "metadata": {
        "id": "0RZGmImDJ1lB",
        "colab": {
          "base_uri": "https://localhost:8080/"
        },
        "outputId": "a486acaf-2ff6-4366-d5b2-f3e363b56e18"
      },
      "execution_count": 41,
      "outputs": [
        {
          "output_type": "stream",
          "name": "stdout",
          "text": [
            "[1, 3, 3, 3, 3, 4, 5, 6, 6, 8]\n"
          ]
        }
      ]
    },
    {
      "cell_type": "code",
      "source": [
        "print(lista.count(4))"
      ],
      "metadata": {
        "id": "mC1Eek1wJ_6B",
        "colab": {
          "base_uri": "https://localhost:8080/"
        },
        "outputId": "5d1298c6-5414-42ae-e9dc-f8e3e5c9173e"
      },
      "execution_count": 42,
      "outputs": [
        {
          "output_type": "stream",
          "name": "stdout",
          "text": [
            "1\n"
          ]
        }
      ]
    },
    {
      "cell_type": "code",
      "source": [],
      "metadata": {
        "id": "bGMzmVyV73zD"
      },
      "execution_count": null,
      "outputs": []
    }
  ]
}